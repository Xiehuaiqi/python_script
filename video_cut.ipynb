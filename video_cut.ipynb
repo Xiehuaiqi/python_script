{
 "cells": [
  {
   "cell_type": "code",
   "execution_count": 18,
   "metadata": {},
   "outputs": [
    {
     "name": "stdout",
     "output_type": "stream",
     "text": [
      "0:1:24\n"
     ]
    }
   ],
   "source": [
    "from os import system\n",
    "\n",
    "video_path = 'ch13_20190322194406.mp4'\n",
    "start_time = '00:22:16'\n",
    "end_time = '00:23:40'\n",
    "\n",
    "keep_time_h = int(end_time.split(':')[0])-int(start_time.split(':')[0])\n",
    "keep_time_m = int(end_time.split(':')[1])-int(start_time.split(':')[1])\n",
    "keep_time_s = int(end_time.split(':')[2])-int(start_time.split(':')[2])\n",
    "if keep_time_s<0:\n",
    "    keep_time_m -= 1 \n",
    "    keep_time_s= keep_time_s+60\n",
    "if keep_time_m<0:\n",
    "    keep_time_h -=1\n",
    "    keep_time_m=keep_time_m+60\n",
    "keep_time = str(keep_time_h)+':'+str(keep_time_m)+':'+str(keep_time_s)\n",
    "print(keep_time)\n"
   ]
  },
  {
   "cell_type": "code",
   "execution_count": 19,
   "metadata": {},
   "outputs": [
    {
     "name": "stdout",
     "output_type": "stream",
     "text": [
      "('002216', '002340')\n"
     ]
    },
    {
     "data": {
      "text/plain": [
       "0"
      ]
     },
     "execution_count": 19,
     "metadata": {},
     "output_type": "execute_result"
    }
   ],
   "source": [
    "# keep_time_1 = '00:02:00'\n",
    "# print(keep_time_1)\n",
    "start_path = start_time.split(':')[0]+start_time.split(':')[1]+start_time.split(':')[2]\n",
    "end_path = end_time.split(':')[0]+end_time.split(':')[1]+end_time.split(':')[2]\n",
    "print(start_path,end_path)\n",
    "out_video = video_path.split('.')[0]+'_'+start_path+'_'+end_path+'.mp4'\n",
    "\n",
    "\n",
    "system('ffmpeg -i '+video_path +' -ss '+start_time+' -c copy -t '+keep_time+ ' '+out_video)"
   ]
  },
  {
   "cell_type": "code",
   "execution_count": 20,
   "metadata": {},
   "outputs": [
    {
     "data": {
      "text/plain": [
       "0"
      ]
     },
     "execution_count": 20,
     "metadata": {},
     "output_type": "execute_result"
    }
   ],
   "source": [
    "system('rm -rf '+video_path)"
   ]
  },
  {
   "cell_type": "code",
   "execution_count": null,
   "metadata": {},
   "outputs": [],
   "source": []
  }
 ],
 "metadata": {
  "kernelspec": {
   "display_name": "Python 2",
   "language": "python",
   "name": "python2"
  },
  "language_info": {
   "codemirror_mode": {
    "name": "ipython",
    "version": 2
   },
   "file_extension": ".py",
   "mimetype": "text/x-python",
   "name": "python",
   "nbconvert_exporter": "python",
   "pygments_lexer": "ipython2",
   "version": "2.7.15"
  }
 },
 "nbformat": 4,
 "nbformat_minor": 2
}
