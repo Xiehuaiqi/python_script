{
 "cells": [
  {
   "cell_type": "code",
   "execution_count": 2,
   "metadata": {},
   "outputs": [],
   "source": [
    "#coding:utf-8\n",
    "import re\n",
    "import os\n",
    "import sys\n",
    "import xml.etree.ElementTree as ET\n",
    "#from beautiful import prettyXml"
   ]
  },
  {
   "cell_type": "code",
   "execution_count": null,
   "metadata": {
    "collapsed": true
   },
   "outputs": [],
   "source": [
    "source_path = \"/home/zx/PycharmProjects/compare/gt2xml/img-001-2.xml\"\n",
    "goal_path = \"/home/zx/博士VOC/MOT17VOC/Annotations/\"\n",
    "\n",
    "def save_xml(self, file_name):\n",
    "    xml_str = self.m_dom.toprettyxml(indent=\"    \")\n",
    "    repl = lambda x: \">%s</\" % x.group(1).strip() if len(x.group(1).strip()) != 0 else x.group(0)\n",
    "    pretty_str = re.sub(r'>\\n\\s*([^<]+)</', repl, xml_str)\n",
    "    open(file_name, 'w').write(pretty_str)\n",
    "\n",
    "def get_files(file_dir):\n",
    "\n",
    "    namelist = []\n",
    "    for file in os.listdir(file_dir):\n",
    "        name = file.split('.')\n",
    "        namelist.append(name[0])\n",
    "    return(namelist)"
   ]
  },
  {
   "cell_type": "code",
   "execution_count": 28,
   "metadata": {},
   "outputs": [
    {
     "name": "stdout",
     "output_type": "stream",
     "text": [
      "1,1,1376,485,37,28,0,11,1\n",
      "\n"
     ]
    }
   ],
   "source": [
    "ano = open(\"/home/zx/博士VOC/train/MOT17-13/gt/gt.txt\")\n",
    "lines = ano.readlines()\n",
    "num = 0\n",
    "print(lines[0])"
   ]
  },
  {
   "cell_type": "code",
   "execution_count": 29,
   "metadata": {},
   "outputs": [
    {
     "name": "stdout",
     "output_type": "stream",
     "text": [
      "750\n"
     ]
    }
   ],
   "source": [
    "num =0\n",
    "numlist = []\n",
    "for line in lines:\n",
    "    line = line.split(',')\n",
    "    #print(line)\n",
    "    if line[0] not in numlist:\n",
    "        numlist.append(line[0])\n",
    "        num += 1\n",
    "#print(numlist)\n",
    "print(num)\n",
    "    \n",
    "    "
   ]
  },
  {
   "cell_type": "code",
   "execution_count": 11,
   "metadata": {},
   "outputs": [
    {
     "name": "stdout",
     "output_type": "stream",
     "text": [
      "/home/zx/博士VOC/train/MOT17-04/img1/000069.jpg\n"
     ]
    },
    {
     "ename": "NameError",
     "evalue": "name 'source_path' is not defined",
     "traceback": [
      "\u001b[0;31m---------------------------------------------------------------------------\u001b[0m",
      "\u001b[0;31mNameError\u001b[0m                                 Traceback (most recent call last)",
      "\u001b[0;32m<ipython-input-11-7301b56f9a09>\u001b[0m in \u001b[0;36m<module>\u001b[0;34m()\u001b[0m\n\u001b[1;32m     14\u001b[0m         \u001b[0mname_new\u001b[0m \u001b[0;34m=\u001b[0m \u001b[0mname\u001b[0m\u001b[0;34m[\u001b[0m\u001b[0;34m-\u001b[0m\u001b[0;36m3\u001b[0m\u001b[0;34m]\u001b[0m\u001b[0;34m+\u001b[0m\u001b[0;34m'_'\u001b[0m\u001b[0;34m+\u001b[0m\u001b[0mname\u001b[0m\u001b[0;34m[\u001b[0m\u001b[0;34m-\u001b[0m\u001b[0;36m2\u001b[0m\u001b[0;34m]\u001b[0m\u001b[0;34m+\u001b[0m\u001b[0;34m'_'\u001b[0m\u001b[0;34m+\u001b[0m\u001b[0mname\u001b[0m\u001b[0;34m[\u001b[0m\u001b[0;34m-\u001b[0m\u001b[0;36m1\u001b[0m\u001b[0;34m]\u001b[0m\u001b[0;34m\u001b[0m\u001b[0m\n\u001b[1;32m     15\u001b[0m         \u001b[0;31m# print(name)\u001b[0m\u001b[0;34m\u001b[0m\u001b[0;34m\u001b[0m\u001b[0m\n\u001b[0;32m---> 16\u001b[0;31m         \u001b[0mos\u001b[0m\u001b[0;34m.\u001b[0m\u001b[0msystem\u001b[0m\u001b[0;34m(\u001b[0m\u001b[0;34m\"scp \"\u001b[0m \u001b[0;34m+\u001b[0m \u001b[0msource_path\u001b[0m \u001b[0;34m+\u001b[0m \u001b[0;34m\" \"\u001b[0m\u001b[0;34m+\u001b[0m\u001b[0mgoal_path\u001b[0m\u001b[0;34m)\u001b[0m\u001b[0;34m\u001b[0m\u001b[0m\n\u001b[0m\u001b[1;32m     17\u001b[0m         \u001b[0;31m#os.system('mv '+ image_file +' /home/zx/博士VOC/train/'+name[-3]+'/'+name[-2]+'/' +name_new)\u001b[0m\u001b[0;34m\u001b[0m\u001b[0;34m\u001b[0m\u001b[0m\n\u001b[1;32m     18\u001b[0m         \u001b[0;31m#os.system('mv '+'/home/zx/博士VOC/train/'+name[-3]+'/'+name[-2]+'/' +name_new +' /home/zx/博士VOC/train/')\u001b[0m\u001b[0;34m\u001b[0m\u001b[0;34m\u001b[0m\u001b[0m\n",
      "\u001b[0;31mNameError\u001b[0m: name 'source_path' is not defined"
     ],
     "output_type": "error"
    }
   ],
   "source": []
  },
  {
   "cell_type": "code",
   "execution_count": null,
   "metadata": {
    "collapsed": true
   },
   "outputs": [],
   "source": []
  }
 ],
 "metadata": {
  "kernelspec": {
   "display_name": "Python [conda env:compare]",
   "language": "python",
   "name": "conda-env-compare-py"
  },
  "language_info": {
   "codemirror_mode": {
    "name": "ipython",
    "version": 3
   },
   "file_extension": ".py",
   "mimetype": "text/x-python",
   "name": "python",
   "nbconvert_exporter": "python",
   "pygments_lexer": "ipython3",
   "version": "3.6.2"
  }
 },
 "nbformat": 4,
 "nbformat_minor": 2
}
